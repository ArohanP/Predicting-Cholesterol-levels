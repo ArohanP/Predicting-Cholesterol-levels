{
 "cells": [
  {
   "cell_type": "code",
   "execution_count": 1,
   "id": "057efa99",
   "metadata": {},
   "outputs": [],
   "source": [
    "import pandas as pd\n",
    "import numpy as np"
   ]
  },
  {
   "cell_type": "markdown",
   "id": "0d17c2fc",
   "metadata": {},
   "source": [
    "### Importing the Dataset"
   ]
  },
  {
   "cell_type": "code",
   "execution_count": 166,
   "id": "c862590c",
   "metadata": {},
   "outputs": [],
   "source": [
    "data = pd.read_excel('BMI_Data.xlsx')"
   ]
  },
  {
   "cell_type": "markdown",
   "id": "6ee70538",
   "metadata": {},
   "source": [
    "### Describing the Statistical Parameters of the Dataset"
   ]
  },
  {
   "cell_type": "code",
   "execution_count": 167,
   "id": "0f561bab",
   "metadata": {},
   "outputs": [
    {
     "data": {
      "text/html": [
       "<div>\n",
       "<style scoped>\n",
       "    .dataframe tbody tr th:only-of-type {\n",
       "        vertical-align: middle;\n",
       "    }\n",
       "\n",
       "    .dataframe tbody tr th {\n",
       "        vertical-align: top;\n",
       "    }\n",
       "\n",
       "    .dataframe thead th {\n",
       "        text-align: right;\n",
       "    }\n",
       "</style>\n",
       "<table border=\"1\" class=\"dataframe\">\n",
       "  <thead>\n",
       "    <tr style=\"text-align: right;\">\n",
       "      <th></th>\n",
       "      <th>Weight in Pounds</th>\n",
       "      <th>BMI</th>\n",
       "      <th>Cholesterol</th>\n",
       "    </tr>\n",
       "  </thead>\n",
       "  <tbody>\n",
       "    <tr>\n",
       "      <th>count</th>\n",
       "      <td>761.000000</td>\n",
       "      <td>761.000000</td>\n",
       "      <td>761.000000</td>\n",
       "    </tr>\n",
       "    <tr>\n",
       "      <th>mean</th>\n",
       "      <td>205.539075</td>\n",
       "      <td>86.556922</td>\n",
       "      <td>257.247678</td>\n",
       "    </tr>\n",
       "    <tr>\n",
       "      <th>std</th>\n",
       "      <td>17.098299</td>\n",
       "      <td>2.262907</td>\n",
       "      <td>27.467817</td>\n",
       "    </tr>\n",
       "    <tr>\n",
       "      <th>min</th>\n",
       "      <td>27.870000</td>\n",
       "      <td>83.716540</td>\n",
       "      <td>0.000000</td>\n",
       "    </tr>\n",
       "    <tr>\n",
       "      <th>25%</th>\n",
       "      <td>205.380000</td>\n",
       "      <td>84.979620</td>\n",
       "      <td>248.631520</td>\n",
       "    </tr>\n",
       "    <tr>\n",
       "      <th>50%</th>\n",
       "      <td>208.830000</td>\n",
       "      <td>85.875630</td>\n",
       "      <td>264.743919</td>\n",
       "    </tr>\n",
       "    <tr>\n",
       "      <th>75%</th>\n",
       "      <td>211.920000</td>\n",
       "      <td>87.566590</td>\n",
       "      <td>272.940000</td>\n",
       "    </tr>\n",
       "    <tr>\n",
       "      <th>max</th>\n",
       "      <td>218.360000</td>\n",
       "      <td>98.260000</td>\n",
       "      <td>309.478148</td>\n",
       "    </tr>\n",
       "  </tbody>\n",
       "</table>\n",
       "</div>"
      ],
      "text/plain": [
       "       Weight in Pounds         BMI  Cholesterol\n",
       "count        761.000000  761.000000   761.000000\n",
       "mean         205.539075   86.556922   257.247678\n",
       "std           17.098299    2.262907    27.467817\n",
       "min           27.870000   83.716540     0.000000\n",
       "25%          205.380000   84.979620   248.631520\n",
       "50%          208.830000   85.875630   264.743919\n",
       "75%          211.920000   87.566590   272.940000\n",
       "max          218.360000   98.260000   309.478148"
      ]
     },
     "execution_count": 167,
     "metadata": {},
     "output_type": "execute_result"
    }
   ],
   "source": [
    "data.describe()"
   ]
  },
  {
   "cell_type": "markdown",
   "id": "1287ab81",
   "metadata": {},
   "source": [
    "###  Checking for the NULL values in the dataset"
   ]
  },
  {
   "cell_type": "code",
   "execution_count": 168,
   "id": "b4a34cbb",
   "metadata": {},
   "outputs": [
    {
     "data": {
      "text/plain": [
       "Date                0\n",
       "Weight in Pounds    0\n",
       "BMI                 0\n",
       "Cholesterol         0\n",
       "dtype: int64"
      ]
     },
     "execution_count": 168,
     "metadata": {},
     "output_type": "execute_result"
    }
   ],
   "source": [
    "data.isnull().sum()"
   ]
  },
  {
   "cell_type": "markdown",
   "id": "3599af1b",
   "metadata": {},
   "source": [
    "### We can clearly see that the data has no NULL values. Now, lets check the correlation among the columns of the dataset."
   ]
  },
  {
   "cell_type": "code",
   "execution_count": 169,
   "id": "83b5800c",
   "metadata": {},
   "outputs": [],
   "source": [
    "correlation = data.corr()"
   ]
  },
  {
   "cell_type": "code",
   "execution_count": 170,
   "id": "37b029c2",
   "metadata": {},
   "outputs": [
    {
     "data": {
      "text/html": [
       "<div>\n",
       "<style scoped>\n",
       "    .dataframe tbody tr th:only-of-type {\n",
       "        vertical-align: middle;\n",
       "    }\n",
       "\n",
       "    .dataframe tbody tr th {\n",
       "        vertical-align: top;\n",
       "    }\n",
       "\n",
       "    .dataframe thead th {\n",
       "        text-align: right;\n",
       "    }\n",
       "</style>\n",
       "<table border=\"1\" class=\"dataframe\">\n",
       "  <thead>\n",
       "    <tr style=\"text-align: right;\">\n",
       "      <th></th>\n",
       "      <th>Weight in Pounds</th>\n",
       "      <th>BMI</th>\n",
       "      <th>Cholesterol</th>\n",
       "    </tr>\n",
       "  </thead>\n",
       "  <tbody>\n",
       "    <tr>\n",
       "      <th>Weight in Pounds</th>\n",
       "      <td>1.000000</td>\n",
       "      <td>0.007376</td>\n",
       "      <td>0.563185</td>\n",
       "    </tr>\n",
       "    <tr>\n",
       "      <th>BMI</th>\n",
       "      <td>0.007376</td>\n",
       "      <td>1.000000</td>\n",
       "      <td>-0.003473</td>\n",
       "    </tr>\n",
       "    <tr>\n",
       "      <th>Cholesterol</th>\n",
       "      <td>0.563185</td>\n",
       "      <td>-0.003473</td>\n",
       "      <td>1.000000</td>\n",
       "    </tr>\n",
       "  </tbody>\n",
       "</table>\n",
       "</div>"
      ],
      "text/plain": [
       "                  Weight in Pounds       BMI  Cholesterol\n",
       "Weight in Pounds          1.000000  0.007376     0.563185\n",
       "BMI                       0.007376  1.000000    -0.003473\n",
       "Cholesterol               0.563185 -0.003473     1.000000"
      ]
     },
     "execution_count": 170,
     "metadata": {},
     "output_type": "execute_result"
    }
   ],
   "source": [
    "correlation"
   ]
  },
  {
   "cell_type": "markdown",
   "id": "a1fd48a3",
   "metadata": {},
   "source": [
    "## Visualising the Dataset"
   ]
  },
  {
   "cell_type": "code",
   "execution_count": 171,
   "id": "37e308ff",
   "metadata": {},
   "outputs": [
    {
     "data": {
      "image/png": "[encoded data removed]",
      "text/plain": [
       "<Figure size 432x288 with 1 Axes>"
      ]
     },
     "metadata": {
      "needs_background": "light"
     },
     "output_type": "display_data"
    }
   ],
   "source": [
    "import matplotlib.pyplot as plt\n",
    "plt.hist(data['Weight in Pounds'],bins=20)\n",
    "plt.hist(data['BMI'],bins=20)\n",
    "plt.hist(data['Cholesterol'],bins=20)\n",
    "plt.legend(['Weight in Pounds','BMI','Cholesterol'])\n",
    "plt.title('Histogram Plot of each column')\n",
    "plt.show()"
   ]
  },
  {
   "cell_type": "code",
   "execution_count": 172,
   "id": "181ac2af",
   "metadata": {},
   "outputs": [
    {
     "data": {
      "image/png": "[encoded data removed]",
      "text/plain": [
       "<Figure size 432x288 with 6 Axes>"
      ]
     },
     "metadata": {
      "needs_background": "light"
     },
     "output_type": "display_data"
    }
   ],
   "source": [
    "fig,(ax1,ax2,ax3)=plt.subplots(nrows=3,ncols=2)\n",
    "ax1[0].violinplot(data['Weight in Pounds'],showmedians=True,vert=False)\n",
    "ax1[0].set_title('Weight in Pounds')\n",
    "ax2[0].violinplot(data['BMI'],showmedians=True,vert=False)\n",
    "ax2[0].set_title('BMI')\n",
    "ax3[0].violinplot(data['Cholesterol'],showmedians=True,vert=False)\n",
    "ax3[0].set_title('Cholesterol')\n",
    "ax1[1].boxplot(data['Weight in Pounds'],vert=False)\n",
    "ax1[1].set_title('Weight in Pounds')\n",
    "ax2[1].boxplot(data['BMI'],vert=False)\n",
    "ax2[1].set_title('BMI')\n",
    "ax3[1].boxplot(data['Cholesterol'],vert=False)\n",
    "ax3[1].set_title('Cholesterol')\n",
    "fig.tight_layout()\n",
    "plt.show()"
   ]
  },
  {
   "cell_type": "markdown",
   "id": "8a663ce3",
   "metadata": {},
   "source": [
    "### We get a good estimate of the spread of each column and their distribution. The Weight column has the highest concentration of values between 200 and 225, the BMI column has the highest concentration of values around 85, and the Cholesterol column has the highest concentration of values between 260 to 280."
   ]
  },
  {
   "cell_type": "markdown",
   "id": "ed12584a",
   "metadata": {},
   "source": [
    "### Now let us plot some graphs to visualise the relations among the columns."
   ]
  },
  {
   "cell_type": "code",
   "execution_count": 173,
   "id": "d38d1508",
   "metadata": {},
   "outputs": [
    {
     "data": {
      "image/png": "[encoded data removed]",
      "text/plain": [
       "<Figure size 432x288 with 1 Axes>"
      ]
     },
     "metadata": {
      "needs_background": "light"
     },
     "output_type": "display_data"
    }
   ],
   "source": [
    "import matplotlib.pyplot as plt\n",
    "x=data['Weight in Pounds']\n",
    "y=data['Cholesterol']\n",
    "plt.scatter(x,y)\n",
    "plt.xlabel('Weight in Pounds')\n",
    "plt.ylabel('Cholesterol')\n",
    "plt.title('Scatter Plot of Cholesterol as a function of Weight')\n",
    "plt.show()"
   ]
  },
  {
   "cell_type": "code",
   "execution_count": 174,
   "id": "96407c64",
   "metadata": {},
   "outputs": [
    {
     "data": {
      "image/png": "[encoded data removed]",
      "text/plain": [
       "<Figure size 432x288 with 1 Axes>"
      ]
     },
     "metadata": {
      "needs_background": "light"
     },
     "output_type": "display_data"
    }
   ],
   "source": [
    "import matplotlib.pyplot as plt\n",
    "x=data['BMI']\n",
    "y=data['Cholesterol']\n",
    "plt.scatter(x,y)\n",
    "plt.xlabel('BMI')\n",
    "plt.ylabel('Cholesterol')\n",
    "plt.title('Cholesterol plot of Cholesterol as a function of BMI')\n",
    "plt.show()"
   ]
  },
  {
   "cell_type": "code",
   "execution_count": 175,
   "id": "ef887c80",
   "metadata": {},
   "outputs": [
    {
     "data": {
      "image/png": "[encoded data removed]",
      "text/plain": [
       "<Figure size 432x288 with 1 Axes>"
      ]
     },
     "metadata": {
      "needs_background": "light"
     },
     "output_type": "display_data"
    }
   ],
   "source": [
    "import matplotlib.pyplot as plt\n",
    "from mpl_toolkits import mplot3d\n",
    "fig = plt.figure()\n",
    "ax  = plt.axes(projection ='3d')\n",
    "z   = data['Cholesterol']\n",
    "x   = data['Weight in Pounds']\n",
    "y   = data['BMI']\n",
    "plt.xlabel('Weight in Pounds')\n",
    "plt.ylabel('BMI')\n",
    "plt.title('Cholesterol as a function of Weight and BMI')\n",
    "ax.scatter(x,y,z,'green')\n",
    "plt.show()"
   ]
  },
  {
   "cell_type": "markdown",
   "id": "b65fc239",
   "metadata": {},
   "source": [
    "## Now Let us build our prediction models"
   ]
  },
  {
   "cell_type": "code",
   "execution_count": 194,
   "id": "9b33fcb8",
   "metadata": {},
   "outputs": [],
   "source": [
    "from sklearn.preprocessing import MinMaxScaler"
   ]
  },
  {
   "cell_type": "code",
   "execution_count": 195,
   "id": "f12e3f47",
   "metadata": {},
   "outputs": [],
   "source": [
    "data=data.drop(['Date'],axis=1)"
   ]
  },
  {
   "cell_type": "code",
   "execution_count": 198,
   "id": "db7eb8fd",
   "metadata": {},
   "outputs": [],
   "source": [
    "data_scaled=MinMaxScaler().fit_transform(data)\n",
    "data_scaled=pd.DataFrame(data_scaled)"
   ]
  },
  {
   "cell_type": "code",
   "execution_count": 199,
   "id": "e80fcb4c",
   "metadata": {},
   "outputs": [],
   "source": [
    "X=data_scaled.iloc[:,:-1]\n",
    "Y=data_scaled.iloc[:,-1]"
   ]
  },
  {
   "cell_type": "markdown",
   "id": "afdc1e09",
   "metadata": {},
   "source": [
    "### Calling a list of regression models from sklearn. After fitting, we can compare these models using a suitable metric and select the best model."
   ]
  },
  {
   "cell_type": "code",
   "execution_count": 200,
   "id": "815e24bc",
   "metadata": {},
   "outputs": [],
   "source": [
    "from sklearn.linear_model import LinearRegression\n",
    "from sklearn.linear_model import Ridge\n",
    "from sklearn.linear_model import Lasso\n",
    "from sklearn.linear_model import ElasticNet\n",
    "from sklearn.linear_model import MultiTaskElasticNet\n",
    "from sklearn.linear_model import BayesianRidge\n",
    "from sklearn.linear_model import SGDRegressor\n",
    "from sklearn.linear_model import PassiveAggressiveRegressor\n",
    "from sklearn.neighbors import KNeighborsRegressor\n",
    "from sklearn.tree import DecisionTreeRegressor\n",
    "from sklearn.tree import ExtraTreeRegressor\n",
    "from sklearn.svm import SVR\n",
    "from sklearn.naive_bayes import GaussianNB\n",
    "from sklearn.ensemble import AdaBoostRegressor\n",
    "from sklearn.ensemble import BaggingRegressor\n",
    "from sklearn.ensemble import RandomForestRegressor\n",
    "from sklearn.ensemble import ExtraTreesRegressor\n",
    "from sklearn.gaussian_process import GaussianProcessRegressor\n",
    "from sklearn.ensemble import GradientBoostingRegressor\n",
    "from sklearn.discriminant_analysis import LinearDiscriminantAnalysis\n",
    "from sklearn.discriminant_analysis import QuadraticDiscriminantAnalysis\n",
    "import xgboost as xgb\n",
    "\n"
   ]
  },
  {
   "cell_type": "markdown",
   "id": "5f66f379",
   "metadata": {},
   "source": [
    "### Caling the train_test_split and mean squared error metric."
   ]
  },
  {
   "cell_type": "code",
   "execution_count": 201,
   "id": "ea16a597",
   "metadata": {},
   "outputs": [],
   "source": [
    "from sklearn.model_selection import train_test_split\n",
    "from sklearn.metrics import mean_squared_error"
   ]
  },
  {
   "cell_type": "markdown",
   "id": "7b443408",
   "metadata": {},
   "source": [
    "### Defining a function that would load all the models in a list."
   ]
  },
  {
   "cell_type": "code",
   "execution_count": 202,
   "id": "28f3f704",
   "metadata": {},
   "outputs": [],
   "source": [
    "def get_models():\n",
    "    models = []\n",
    "    models.append(LinearRegression())\n",
    "    models.append(Ridge())\n",
    "    models.append(Lasso())\n",
    "    models.append(ElasticNet())\n",
    "    models.append(BayesianRidge())\n",
    "    models.append(SGDRegressor())\n",
    "    models.append(PassiveAggressiveRegressor())\n",
    "    models.append(KNeighborsRegressor())\n",
    "    models.append(DecisionTreeRegressor())\n",
    "    models.append(ExtraTreeRegressor())\n",
    "    models.append(SVR())\n",
    "    models.append(AdaBoostRegressor())\n",
    "    models.append(BaggingRegressor())\n",
    "    models.append(RandomForestRegressor())\n",
    "    models.append(ExtraTreesRegressor())\n",
    "    models.append(GaussianProcessRegressor())\n",
    "    models.append(GradientBoostingRegressor())\n",
    "    models.append(xgb.XGBRegressor())\n",
    "    return models"
   ]
  },
  {
   "cell_type": "code",
   "execution_count": 203,
   "id": "a61fdb0c",
   "metadata": {},
   "outputs": [],
   "source": [
    "models = get_models()"
   ]
  },
  {
   "cell_type": "markdown",
   "id": "08331c6a",
   "metadata": {},
   "source": [
    "### This piece of code gives a list of all the trained models along with their respective mean sqaured error."
   ]
  },
  {
   "cell_type": "code",
   "execution_count": 204,
   "id": "0c54ab61",
   "metadata": {},
   "outputs": [
    {
     "name": "stdout",
     "output_type": "stream",
     "text": [
      "{'LinearRegression': {'Mean_squared_error': 0.06806145531186604}, 'Ridge': {'Mean_squared_error': 0.06928057157009829}, 'Lasso': {'Mean_squared_error': 0.0823653043835305}, 'ElasticNet': {'Mean_squared_error': 0.07268902812785528}, 'BayesianRidge': {'Mean_squared_error': 0.09029223422037005}, 'SGDRegressor': {'Mean_squared_error': 0.08030907019890737}, 'PassiveAggressiveRegressor': {'Mean_squared_error': 0.286344133376732}, 'KNeighborsRegressor': {'Mean_squared_error': 0.08067954586834544}, 'DecisionTreeRegressor': {'Mean_squared_error': 0.10280011200260127}, 'ExtraTreeRegressor': {'Mean_squared_error': 0.09142115610648872}, 'SVR': {'Mean_squared_error': 0.07654975952569605}, 'AdaBoostRegressor': {'Mean_squared_error': 0.06494900093613279}, 'BaggingRegressor': {'Mean_squared_error': 0.06594754783519009}, 'RandomForestRegressor': {'Mean_squared_error': 0.0835722097849381}, 'ExtraTreesRegressor': {'Mean_squared_error': 0.07074288565532347}, 'GaussianProcessRegressor': {'Mean_squared_error': 0.061450755184861656}, 'GradientBoostingRegressor': {'Mean_squared_error': 0.08484748132495709}, 'XGBRegressor': {'Mean_squared_error': 0.1016132054542913}}\n"
     ]
    }
   ],
   "source": [
    "trained_models = {}\n",
    "model_performance={}\n",
    "for i in range(len(models)):\n",
    "    X_train,X_test,Y_train,Y_test = train_test_split(X,Y,test_size=0.2)\n",
    "    models[i].fit(X_train,Y_train)\n",
    "    trained_models[type(models[i]).__name__]=models[i]\n",
    "    y_pred=models[i].predict(X_test)\n",
    "    rmse=np.sqrt(mean_squared_error(Y_test,y_pred))\n",
    "    model_performance[type(models[i]).__name__]={'Mean_squared_error':rmse}\n",
    "print(model_performance)\n",
    "    \n",
    "    \n",
    "    \n",
    "    \n",
    "    \n",
    "    "
   ]
  },
  {
   "cell_type": "code",
   "execution_count": 205,
   "id": "30e1319e",
   "metadata": {},
   "outputs": [
    {
     "data": {
      "text/plain": [
       "{'LinearRegression': LinearRegression(),\n",
       " 'Ridge': Ridge(),\n",
       " 'Lasso': Lasso(),\n",
       " 'ElasticNet': ElasticNet(),\n",
       " 'BayesianRidge': BayesianRidge(),\n",
       " 'SGDRegressor': SGDRegressor(),\n",
       " 'PassiveAggressiveRegressor': PassiveAggressiveRegressor(),\n",
       " 'KNeighborsRegressor': KNeighborsRegressor(),\n",
       " 'DecisionTreeRegressor': DecisionTreeRegressor(),\n",
       " 'ExtraTreeRegressor': ExtraTreeRegressor(),\n",
       " 'SVR': SVR(),\n",
       " 'AdaBoostRegressor': AdaBoostRegressor(),\n",
       " 'BaggingRegressor': BaggingRegressor(),\n",
       " 'RandomForestRegressor': RandomForestRegressor(),\n",
       " 'ExtraTreesRegressor': ExtraTreesRegressor(),\n",
       " 'GaussianProcessRegressor': GaussianProcessRegressor(),\n",
       " 'GradientBoostingRegressor': GradientBoostingRegressor(),\n",
       " 'XGBRegressor': XGBRegressor(base_score=0.5, booster='gbtree', callbacks=None,\n",
       "              colsample_bylevel=1, colsample_bynode=1, colsample_bytree=1,\n",
       "              early_stopping_rounds=None, enable_categorical=False,\n",
       "              eval_metric=None, gamma=0, gpu_id=-1, grow_policy='depthwise',\n",
       "              importance_type=None, interaction_constraints='',\n",
       "              learning_rate=0.300000012, max_bin=256, max_cat_to_onehot=4,\n",
       "              max_delta_step=0, max_depth=6, max_leaves=0, min_child_weight=1,\n",
       "              missing=nan, monotone_constraints='()', n_estimators=100, n_jobs=0,\n",
       "              num_parallel_tree=1, predictor='auto', random_state=0, reg_alpha=0,\n",
       "              reg_lambda=1, ...)}"
      ]
     },
     "execution_count": 205,
     "metadata": {},
     "output_type": "execute_result"
    }
   ],
   "source": [
    "trained_models\n"
   ]
  },
  {
   "cell_type": "markdown",
   "id": "f2254a57",
   "metadata": {},
   "source": [
    "### We have got a dictionary of trained models. We can call any model to make our prediction. For example, lets try to call our Linear Regression Model and test its root mean squared error."
   ]
  },
  {
   "cell_type": "code",
   "execution_count": 209,
   "id": "6bdf9218",
   "metadata": {},
   "outputs": [],
   "source": [
    "Model=trained_models['LinearRegression']"
   ]
  },
  {
   "cell_type": "code",
   "execution_count": 210,
   "id": "c761f32d",
   "metadata": {},
   "outputs": [],
   "source": [
    "y_pred=Model.predict(X)"
   ]
  },
  {
   "cell_type": "code",
   "execution_count": 213,
   "id": "47ef8200",
   "metadata": {},
   "outputs": [
    {
     "name": "stdout",
     "output_type": "stream",
     "text": [
      "0.07342158192576402\n"
     ]
    }
   ],
   "source": [
    "print(np.sqrt(mean_squared_error(Y,y_pred)))"
   ]
  }
 ],
 "metadata": {
  "kernelspec": {
   "display_name": "Python 3 (ipykernel)",
   "language": "python",
   "name": "python3"
  },
  "language_info": {
   "codemirror_mode": {
    "name": "ipython",
    "version": 3
   },
   "file_extension": ".py",
   "mimetype": "text/x-python",
   "name": "python",
   "nbconvert_exporter": "python",
   "pygments_lexer": "ipython3",
   "version": "3.9.12"
  }
 },
 "nbformat": 4,
 "nbformat_minor": 5
}
